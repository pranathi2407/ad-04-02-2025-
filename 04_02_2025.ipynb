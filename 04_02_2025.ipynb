{
  "nbformat": 4,
  "nbformat_minor": 0,
  "metadata": {
    "colab": {
      "provenance": [],
      "authorship_tag": "ABX9TyOUvcMAP/PuODWKiL7VxQU6"
    },
    "kernelspec": {
      "name": "python3",
      "display_name": "Python 3"
    },
    "language_info": {
      "name": "python"
    }
  },
  "cells": [
    {
      "cell_type": "code",
      "execution_count": 1,
      "metadata": {
        "id": "fEv8E6HU_D3U",
        "colab": {
          "base_uri": "https://localhost:8080/"
        },
        "outputId": "6a7486e7-a528-4388-d8b5-d9fc89dad994"
      },
      "outputs": [
        {
          "output_type": "stream",
          "name": "stdout",
          "text": [
            "Collecting emot\n",
            "  Downloading emot-3.1-py3-none-any.whl.metadata (396 bytes)\n",
            "Downloading emot-3.1-py3-none-any.whl (61 kB)\n",
            "\u001b[?25l   \u001b[90m━━━━━━━━━━━━━━━━━━━━━━━━━━━━━━━━━━━━━━━━\u001b[0m \u001b[32m0.0/61.5 kB\u001b[0m \u001b[31m?\u001b[0m eta \u001b[36m-:--:--\u001b[0m\r\u001b[2K   \u001b[90m━━━━━━━━━━━━━━━━━━━━━━━━━━━━━━━━━━━━━━━━\u001b[0m \u001b[32m61.5/61.5 kB\u001b[0m \u001b[31m4.0 MB/s\u001b[0m eta \u001b[36m0:00:00\u001b[0m\n",
            "\u001b[?25hInstalling collected packages: emot\n",
            "Successfully installed emot-3.1\n"
          ]
        }
      ],
      "source": [
        "!pip install emot"
      ]
    },
    {
      "cell_type": "code",
      "source": [
        "text1 = \"What are you saying 😂. I am the boss 😎, and why are you so 😒\""
      ],
      "metadata": {
        "id": "cEt1plTVwc79"
      },
      "execution_count": 2,
      "outputs": []
    },
    {
      "cell_type": "code",
      "source": [
        "import re\n",
        "from emot.emo_unicode import UNICODE_EMOJI_ALIAS\n",
        "from emot.emo_unicode import EMOTICONS_EMO"
      ],
      "metadata": {
        "id": "DD7g6fLOxIdU"
      },
      "execution_count": 4,
      "outputs": []
    },
    {
      "cell_type": "code",
      "source": [],
      "metadata": {
        "id": "o90_qOR2ySvi"
      },
      "execution_count": null,
      "outputs": []
    }
  ]
}