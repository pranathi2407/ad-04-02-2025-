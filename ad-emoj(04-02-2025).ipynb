{
 "cells": [
  {
   "cell_type": "code",
   "execution_count": 1,
   "id": "3c9f0524",
   "metadata": {},
   "outputs": [
    {
     "name": "stdout",
     "output_type": "stream",
     "text": [
      "Collecting emot\n",
      "  Downloading emot-3.1-py3-none-any.whl (61 kB)\n",
      "     ---------------------------------------- 61.5/61.5 kB 3.2 MB/s eta 0:00:00\n",
      "Installing collected packages: emot\n",
      "Successfully installed emot-3.1\n"
     ]
    }
   ],
   "source": [
    "!pip install emot"
   ]
  },
  {
   "cell_type": "code",
   "execution_count": 2,
   "id": "80f7bcc9",
   "metadata": {},
   "outputs": [],
   "source": [
    "text1 = \"What are you saying 😂. I am the boss 😎, and why are you so 😒\""
   ]
  },
  {
   "cell_type": "code",
   "execution_count": 8,
   "id": "49fadc0b",
   "metadata": {},
   "outputs": [],
   "source": [
    "import re\n",
    "from emot.emo_unicode import UNICODE_EMOJI\n",
    "from emot.emo_unicode import EMOTICONS_EMO"
   ]
  },
  {
   "cell_type": "code",
   "execution_count": 9,
   "id": "4ff52fcf",
   "metadata": {},
   "outputs": [
    {
     "data": {
      "text/plain": [
       "'What are you saying 😂. I am the boss 😎, and why are you so 😒'"
      ]
     },
     "execution_count": 9,
     "metadata": {},
     "output_type": "execute_result"
    }
   ],
   "source": [
    "def converting_emojis(text):\n",
    "    for emot in UNICODE_EMOJI:\n",
    "        text = text.replace(emot, \"_\".join(UNICODE_EMOJI[emot].replace(\",\",\"\").replace(\":\",\"\").split()))\n",
    "        return text\n",
    "    \n",
    "converting_emojis(text1)"
   ]
  },
  {
   "cell_type": "code",
   "execution_count": 10,
   "id": "57ec58cf",
   "metadata": {},
   "outputs": [
    {
     "data": {
      "text/plain": [
       "'What are you saying . I am the boss , and why are you so '"
      ]
     },
     "execution_count": 10,
     "metadata": {},
     "output_type": "execute_result"
    }
   ],
   "source": [
    "def emoji_removal(string): \n",
    "    emoji_unicodes = re.compile(\"[\" \n",
    "                    u\"\\U0001F600-\\U0001F64F\" # emoticons \n",
    "                    u\"\\U0001F300-\\U0001F5FF\" # symbols \n",
    "                    u\"\\U0001F680-\\U0001F6FF\" # transport \n",
    "                    u\"\\U0001F1E0-\\U0001F1FF\" # flags (iOS) \n",
    "                    u\"\\U00002500-\\U00002BEF\" \n",
    "                    u\"\\U00002702-\\U000027B0\" \n",
    "                    u\"\\U000024C2-\\U0001F251\" \n",
    "                    u\"\\U0001f926-\\U0001f937\" \n",
    "                    u\"\\U00010000-\\U0010ffff\"\n",
    "                    u\"\\u2640-\\u2642\" \n",
    "                    u\"\\u2600-\\u2B55\" \n",
    "                    u\"\\u200d\" \n",
    "                    u\"\\u23cf\" \n",
    "                    u\"\\u23e9\" \n",
    "                    u\"\\u231a\" \n",
    "                    u\"\\ufe0f\" \n",
    "                    u\"\\u3030\" \n",
    "                    \"]+\", flags=re.UNICODE) \n",
    "    return emoji_unicodes.sub(r'', string) \n",
    "emoji_removal(text1)"
   ]
  },
  {
   "cell_type": "code",
   "execution_count": null,
   "id": "2fb602ea",
   "metadata": {},
   "outputs": [],
   "source": []
  }
 ],
 "metadata": {
  "kernelspec": {
   "display_name": "Python 3 (ipykernel)",
   "language": "python",
   "name": "python3"
  },
  "language_info": {
   "codemirror_mode": {
    "name": "ipython",
    "version": 3
   },
   "file_extension": ".py",
   "mimetype": "text/x-python",
   "name": "python",
   "nbconvert_exporter": "python",
   "pygments_lexer": "ipython3",
   "version": "3.9.13"
  }
 },
 "nbformat": 4,
 "nbformat_minor": 5
}
